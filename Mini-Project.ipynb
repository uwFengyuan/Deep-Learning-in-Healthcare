{
 "cells": [
  {
   "attachments": {},
   "cell_type": "markdown",
   "metadata": {},
   "source": [
    "# Import"
   ]
  },
  {
   "cell_type": "code",
   "execution_count": 1,
   "metadata": {},
   "outputs": [],
   "source": [
    "import numpy as np\n",
    "import monai\n",
    "import matplotlib.pyplot as plt\n",
    "%matplotlib inline\n",
    "import warnings\n",
    "warnings.filterwarnings(action='ignore', category=FutureWarning)\n",
    "import torch\n",
    "import time\n",
    "import torch.nn.functional as F # Contains some additional functions such as activations\n",
    "from torch.autograd import Variable\n",
    "import torch.nn as nn # Contains all the functions we need to to train our network\n",
    "import torch.nn.functional as F # Contains some additional functions such as activations\n",
    "from torch.utils.data import Dataset, DataLoader, random_split\n",
    "import sys\n",
    "sys.path.append('./')\n",
    "\n",
    "from torch import nn\n",
    "import torch.nn.functional as F\n",
    "from hparam import hparams as hp\n",
    "import torchio as tio\n",
    "from torchio.transforms import (\n",
    "    RandomFlip,\n",
    "    RandomAffine,\n",
    "    RandomElasticDeformation,\n",
    "    RandomNoise,\n",
    "    RandomMotion,\n",
    "    RandomBiasField,\n",
    "    RandomGamma,\n",
    "    RescaleIntensity,\n",
    "    Resample,\n",
    "    ToCanonical,\n",
    "    ZNormalization,\n",
    "    CropOrPad,\n",
    "    HistogramStandardization,\n",
    "    OneOf,\n",
    "    Compose,\n",
    "    OneHot,\n",
    "    EnsureShapeMultiple\n",
    ")\n",
    "from hparam import hparams as hp\n",
    "device = torch.device('cuda' if torch.cuda.is_available() else 'cpu')\n",
    "#sys.stdout = open('recode.log', mode = 'w',encoding='utf-8')"
   ]
  },
  {
   "cell_type": "code",
   "execution_count": 2,
   "metadata": {},
   "outputs": [
    {
     "name": "stdout",
     "output_type": "stream",
     "text": [
      "batch_size:  16\n",
      "total_epochs:  60\n",
      "debug:  True\n"
     ]
    }
   ],
   "source": [
    "print('batch_size: ', hp.batch_size)\n",
    "print('total_epochs: ', hp.total_epochs)\n",
    "print('debug: ', hp.debug)"
   ]
  },
  {
   "attachments": {},
   "cell_type": "markdown",
   "metadata": {},
   "source": [
    "## Useful functions"
   ]
  },
  {
   "cell_type": "code",
   "execution_count": 3,
   "metadata": {},
   "outputs": [],
   "source": [
    "class MedData(torch.utils.data.Dataset):\n",
    "    def __init__(self, image_dir_IOP, label_dir_IOP,image_dir_Guys, label_dir_Guys, \n",
    "                 image_dir_HH, label_dir_HH, train_val_ratio, batch_size):\n",
    "        self.subjects = []\n",
    "        self.X_IOP_ex = np.load(image_dir_IOP)\n",
    "        self.y_IOP_ex = np.load(label_dir_IOP)\n",
    "        self.X_Guys_ex = np.load(image_dir_Guys)\n",
    "        self.y_Guys_ex = np.load(label_dir_Guys)\n",
    "        self.X_HH_ex = np.load(image_dir_HH)\n",
    "        self.y_HH_ex = np.load(label_dir_HH)\n",
    "        self.train_val_ratio = train_val_ratio\n",
    "        self.batch_size = batch_size\n",
    "        self.preprocess = None\n",
    "        self.transform = None\n",
    "\n",
    "    def load_data(self, file_name):\n",
    "        if file_name == 'IOP':\n",
    "            X_train = torch.reshape(torch.tensor(self.X_IOP_ex), (self.X_IOP_ex.shape[0], 1, self.X_IOP_ex.shape[1],\n",
    "                                                                self.X_IOP_ex.shape[2], self.X_IOP_ex.shape[3]))\n",
    "            y_train = torch.reshape(torch.tensor(self.y_IOP_ex), (self.y_IOP_ex.shape[0], 1, self.y_IOP_ex.shape[1],\n",
    "                                                                self.y_IOP_ex.shape[2], self.y_IOP_ex.shape[3]))\n",
    "        elif file_name == 'Guys':\n",
    "            X_train = torch.reshape(torch.tensor(self.X_Guys_ex), (self.X_Guys_ex.shape[0], 1, self.X_Guys_ex.shape[1],\n",
    "                                                                self.X_Guys_ex.shape[2], self.X_Guys_ex.shape[3]))\n",
    "            y_train = torch.reshape(torch.tensor(self.y_Guys_ex), (self.y_Guys_ex.shape[0], 1, self.y_Guys_ex.shape[1],\n",
    "                                                                self.y_Guys_ex.shape[2], self.y_Guys_ex.shape[3]))\n",
    "        elif file_name == 'HH':\n",
    "            X_train = torch.reshape(torch.tensor(self.X_HH_ex), (self.X_HH_ex.shape[0], 1, self.X_HH_ex.shape[1],\n",
    "                                                                  self.X_HH_ex.shape[2], self.X_HH_ex.shape[3]))\n",
    "            y_train = torch.reshape(torch.tensor(self.y_HH_ex), (self.y_HH_ex.shape[0], 1, self.y_HH_ex.shape[1],\n",
    "                                                                 self.y_HH_ex.shape[2], self.y_HH_ex.shape[3]))\n",
    "        \n",
    "        return X_train, y_train\n",
    "\n",
    "    def prepare_data(self):\n",
    "        X_train_IOP, y_train_IOP = self.load_data('IOP')\n",
    "        for (image, label) in zip(X_train_IOP, y_train_IOP):\n",
    "            subject = tio.Subject(\n",
    "                image=tio.ScalarImage(tensor=image),\n",
    "                label=tio.LabelMap(tensor=label),\n",
    "            )\n",
    "            self.subjects.append(subject)\n",
    "\n",
    "        X_train_Guys, y_train_Guys = self.load_data('Guys')\n",
    "        for (image, label) in zip(X_train_Guys, y_train_Guys):\n",
    "            subject = tio.Subject(\n",
    "                image=tio.ScalarImage(tensor=image),\n",
    "                label=tio.LabelMap(tensor=label),\n",
    "            )\n",
    "            self.subjects.append(subject)\n",
    "\n",
    "        X_train_HH, y_train_HH = self.load_data('HH')\n",
    "        for (image, label) in zip(X_train_HH, y_train_HH):\n",
    "            subject = tio.Subject(\n",
    "                image=tio.ScalarImage(tensor=image),\n",
    "                label=tio.LabelMap(tensor=label),\n",
    "            )\n",
    "            self.subjects.append(subject)\n",
    "\n",
    "    def get_max_shape(self, subjects):\n",
    "        dataset = tio.SubjectsDataset(subjects)\n",
    "        shapes = np.array([s.spatial_shape for s in dataset])\n",
    "        return shapes.max(axis=0)\n",
    "\n",
    "    def get_augmentation_transform(self):\n",
    "        auegmentation_transform = Compose([\n",
    "            #OneOf({\n",
    "            #    RandomAffine(): 0.8, # Apply a random affine transformation to the image\n",
    "            #    RandomElasticDeformation(): 0.2,\n",
    "            #}),\n",
    "            RandomAffine(),\n",
    "            RandomBiasField(p=0.5),\n",
    "            RandomGamma(p=0.5),\n",
    "            RandomNoise(p=0.5),\n",
    "            # Randomly flip the image along 0: Sagittal (left-right) axis; 1: Coronal (anterior-posterior) axis; 2: Axial (superior-inferior) axis\n",
    "            RandomFlip(axes=(0,)),\n",
    "        ])\n",
    "\n",
    "        return auegmentation_transform\n",
    "\n",
    "    def get_preprocessing_transform(self):\n",
    "        preprocessing_transform = Compose([\n",
    "            Resample(1),  # resample the images to a common resolution\n",
    "            # Modify the field of view by cropping or padding to match a target shape.\n",
    "            CropOrPad(self.get_max_shape(self.subjects),\n",
    "                      padding_mode='reflect'),\n",
    "            # U-Net Ensure that all values in the image shape are divisible by 16\n",
    "            EnsureShapeMultiple(16),\n",
    "            # Subtract mean and divide by standard deviation.\n",
    "            ZNormalization(),\n",
    "            OneHot(hp.out_channel + 1),  # one hot encoding\n",
    "        ])\n",
    "\n",
    "        return preprocessing_transform\n",
    "\n",
    "    def setup(self, aug):\n",
    "        num_subjects = len(self.subjects)\n",
    "        num_train_subjects = int(round(num_subjects * self.train_val_ratio[0]))\n",
    "        num_val_subjects = int(round(num_subjects * self.train_val_ratio[1]))\n",
    "        num_test_subjects = num_subjects - num_train_subjects - num_val_subjects\n",
    "\n",
    "        splits = num_train_subjects, num_val_subjects, num_test_subjects\n",
    "        train_subjects, val_subjects, test_subjects = random_split(\n",
    "            self.subjects, splits)\n",
    "\n",
    "        self.preprocess = self.get_preprocessing_transform()\n",
    "        augmentation = self.get_augmentation_transform()\n",
    "        self.transform = Compose([self.preprocess, augmentation])\n",
    "\n",
    "        if aug is True:\n",
    "            self.train_set = tio.SubjectsDataset(\n",
    "                train_subjects, transform=self.transform)\n",
    "        else:\n",
    "            self.train_set = tio.SubjectsDataset(\n",
    "                train_subjects, transform=self.preprocess)\n",
    "        self.val_set = tio.SubjectsDataset(\n",
    "            val_subjects, transform=self.preprocess)\n",
    "        self.test_set = tio.SubjectsDataset(\n",
    "            test_subjects, transform=self.preprocess)\n",
    "\n",
    "    def train_dataloader(self):\n",
    "        return DataLoader(self.train_set, self.batch_size, shuffle=True, pin_memory=True)\n",
    "\n",
    "    def val_dataloader(self):\n",
    "        return DataLoader(self.val_set, self.batch_size, shuffle=True, pin_memory=True)\n",
    "\n",
    "    def test_dataloader(self):\n",
    "        return DataLoader(self.test_set, self.batch_size, shuffle=True, pin_memory=True)\n"
   ]
  },
  {
   "attachments": {},
   "cell_type": "markdown",
   "metadata": {},
   "source": [
    "# Load Data"
   ]
  },
  {
   "cell_type": "code",
   "execution_count": 5,
   "metadata": {},
   "outputs": [
    {
     "name": "stdout",
     "output_type": "stream",
     "text": [
      "Training:   338\n",
      "Validation:  113\n",
      "Test:       113\n"
     ]
    },
    {
     "data": {
      "text/plain": [
       "(torch.Size([16, 1, 48, 128, 128]), torch.Size([16, 2, 48, 128, 128]))"
      ]
     },
     "execution_count": 5,
     "metadata": {},
     "output_type": "execute_result"
    }
   ],
   "source": [
    "image_dir_IOP = 'healthcare_data/brain_extraction/X_IOP.npy'\n",
    "label_dir_IOP = 'healthcare_data/brain_extraction/y_IOP.npy'\n",
    "image_dir_Guys = 'healthcare_data/brain_extraction/X_Guys.npy'\n",
    "label_dir_Guys = 'healthcare_data/brain_extraction/y_Guys.npy'\n",
    "image_dir_HH = 'healthcare_data/brain_extraction/X_HH.npy'\n",
    "label_dir_HH = 'healthcare_data/brain_extraction/y_HH.npy'\n",
    "\n",
    "dataset = MedData(image_dir_IOP, label_dir_IOP,image_dir_Guys, label_dir_Guys, \n",
    "                 image_dir_HH, label_dir_HH, [0.6, 0.2, 0.2], hp.batch_size)\n",
    "dataset.prepare_data()\n",
    "dataset.setup(hp.aug[1])\n",
    "print('Training:  ', len(dataset.train_set))\n",
    "print('Validation: ', len(dataset.val_set))\n",
    "print('Test:      ', len(dataset.test_set))\n",
    "\n",
    "train_dataloader = dataset.train_dataloader()\n",
    "val_dataloader = dataset.val_dataloader()\n",
    "test_dataloader = dataset.test_dataloader()\n",
    "\n",
    "next(iter(val_dataloader))['image']['data'].shape,next(iter(val_dataloader))['label']['data'].shape"
   ]
  },
  {
   "cell_type": "code",
   "execution_count": null,
   "metadata": {},
   "outputs": [],
   "source": []
  },
  {
   "attachments": {},
   "cell_type": "markdown",
   "metadata": {},
   "source": [
    "# Data Preprocessing"
   ]
  },
  {
   "cell_type": "code",
   "execution_count": 4,
   "metadata": {},
   "outputs": [],
   "source": [
    "image_dir_IOP = 'healthcare_data/brain_extraction/X_IOP.npy'\n",
    "label_dir_IOP = 'healthcare_data/brain_extraction/y_IOP.npy'\n",
    "image_dir_Guys = 'healthcare_data/brain_extraction/X_Guys.npy'\n",
    "label_dir_Guys = 'healthcare_data/brain_extraction/y_Guys.npy'\n",
    "image_dir_HH = 'healthcare_data/brain_extraction/X_HH.npy'\n",
    "label_dir_HH = 'healthcare_data/brain_extraction/y_HH.npy'"
   ]
  },
  {
   "cell_type": "code",
   "execution_count": 43,
   "metadata": {},
   "outputs": [
    {
     "data": {
      "text/plain": [
       "((176, 40, 128, 128), (176, 40, 128, 128))"
      ]
     },
     "execution_count": 43,
     "metadata": {},
     "output_type": "execute_result"
    }
   ],
   "source": [
    "X_IOP_ex = np.load(image_dir_HH)\n",
    "y_IOP_ex = np.load(label_dir_HH)\n",
    "X_IOP_ex.shape, y_IOP_ex.shape"
   ]
  },
  {
   "cell_type": "code",
   "execution_count": 44,
   "metadata": {},
   "outputs": [],
   "source": [
    "X_train = torch.reshape(torch.tensor(X_IOP_ex), (X_IOP_ex.shape[0], 1, X_IOP_ex.shape[1], X_IOP_ex.shape[2], X_IOP_ex.shape[3]))\n",
    "#y_train = to_one_hot(y_IOP_ex, 2)\n",
    "y_train = torch.reshape(torch.tensor(y_IOP_ex), (y_IOP_ex.shape[0], 1, y_IOP_ex.shape[1], y_IOP_ex.shape[2], y_IOP_ex.shape[3]))"
   ]
  },
  {
   "cell_type": "code",
   "execution_count": 45,
   "metadata": {},
   "outputs": [
    {
     "data": {
      "text/plain": [
       "(torch.Size([1, 40, 128, 128]), torch.Size([1, 40, 128, 128]))"
      ]
     },
     "execution_count": 45,
     "metadata": {},
     "output_type": "execute_result"
    }
   ],
   "source": [
    "brain = X_train[0]\n",
    "label = y_train[0]\n",
    "brain.shape, label.shape"
   ]
  },
  {
   "cell_type": "code",
   "execution_count": 46,
   "metadata": {},
   "outputs": [],
   "source": [
    "subject = tio.Subject(\n",
    "    image=tio.ScalarImage(tensor=brain),\n",
    "    label=tio.LabelMap(tensor=label)\n",
    ")"
   ]
  },
  {
   "cell_type": "code",
   "execution_count": 47,
   "metadata": {},
   "outputs": [
    {
     "name": "stdout",
     "output_type": "stream",
     "text": [
      "image shape:  torch.Size([1, 40, 128, 128])\n",
      "label shape:  torch.Size([1, 40, 128, 128])\n"
     ]
    },
    {
     "data": {
      "image/png": "[encoded data removed]",
      "text/plain": [
       "<Figure size 800x200 with 6 Axes>"
      ]
     },
     "metadata": {},
     "output_type": "display_data"
    },
    {
     "data": {
      "text/plain": [
       "\"\\nplt.subplot(2,6,1)\\nplt.imshow(brain[0][20,:,:])\\nplt.axis('off')\\nplt.subplot(2,6,2)\\nplt.imshow(label[0][20,:,:])\\nplt.axis('off')\\nplt.subplot(2,6,3)\\nplt.imshow(brain[0][:,20,:])\\nplt.axis('off')\\nplt.subplot(2,6,4)\\nplt.imshow(label[0][:,20,:])\\nplt.axis('off')\\nplt.subplot(2,6,5)\\nplt.imshow(brain[0][:,:,20])\\nplt.axis('off')\\nplt.subplot(2,6,6)\\nplt.imshow(label[0][:,:,20])\\nplt.axis('off')\\nplt.subplot(2,6,7)\\nplt.imshow(transformed_image[0][20,:,:])\\nplt.axis('off')\\nplt.subplot(2,6,8)\\nplt.imshow(transformed_label[0][20,:,:])\\nplt.axis('off')\\nplt.subplot(2,6,9)\\nplt.imshow(transformed_image[0][:,20,:])\\nplt.axis('off')\\nplt.subplot(2,6,10)\\nplt.imshow(transformed_label[0][:,20,:])\\nplt.axis('off')\\nplt.subplot(2,6,11)\\nplt.imshow(transformed_image[0][:,:,20])\\nplt.axis('off')\\nplt.subplot(2,6,12)\\nplt.imshow(transformed_label[0][:,:,20])\\nplt.axis('off')\\n\""
      ]
     },
     "execution_count": 47,
     "metadata": {},
     "output_type": "execute_result"
    },
    {
     "ename": "",
     "evalue": "",
     "output_type": "error",
     "traceback": [
      "\u001b[1;31mThe Kernel crashed while executing code in the the current cell or a previous cell. Please review the code in the cell(s) to identify a possible cause of the failure. Click <a href='https://aka.ms/vscodeJupyterKernelCrash'>here</a> for more info. View Jupyter <a href='command:jupyter.viewOutput'>log</a> for further details."
     ]
    }
   ],
   "source": [
    "transform = RandomFlip()\n",
    "#transform = Resample(2)\n",
    "#transform = OneHot(2)\n",
    "#transform = CropOrPad(subject.spatial_shape)\n",
    "#transform = EnsureShapeMultiple(16)\n",
    "#transform = RandomElasticDeformation()\n",
    "transformed_subject = transform(subject)\n",
    "transformed_image = transformed_subject['image']['data']\n",
    "transformed_label = transformed_subject['label']['data']\n",
    "print('image shape: ', transformed_subject['image']['data'].shape)\n",
    "print('label shape: ', transformed_subject['label']['data'].shape)\n",
    "\n",
    "# Create a figure and set the size\n",
    "fig, axes = plt.subplots(nrows=1, ncols=6, figsize=(8, 2))\n",
    "\n",
    "# Replace these with your own images or NumPy arrays\n",
    "image1 = brain[0][20,:,:]\n",
    "image2 = label[0][20,:,:]\n",
    "image3 = brain[0][:,20,:]\n",
    "image4 = label[0][:,20,:]\n",
    "image5 = brain[0][:,:,20]\n",
    "image6 = label[0][:,:,20]\n",
    "\n",
    "# Plot image1 and image2 with label \"Pair 1\"\n",
    "axes[0].imshow(image1, cmap='gray')\n",
    "axes[1].imshow(image2, cmap='gray')\n",
    "axes[0].set_title(\"Axis 0 - brain\", y=-0.25)\n",
    "axes[1].set_title(\"Axis 0 - label\", y=-0.25)\n",
    "\n",
    "# Plot image3 and image4 with label \"Pair 2\"\n",
    "axes[2].imshow(image3, cmap='gray')\n",
    "axes[3].imshow(image4, cmap='gray')\n",
    "axes[2].set_title(\"Axis 1 - brain\", y=-0.8)\n",
    "axes[3].set_title(\"Axis 1 - label\", y=-0.8)\n",
    "\n",
    "# Plot image5 and image6 with label \"Pair 3\"\n",
    "axes[4].imshow(image5, cmap='gray')\n",
    "axes[5].imshow(image6, cmap='gray')\n",
    "axes[4].set_title(\"Axis 2 - brain\", y=-0.8)\n",
    "axes[5].set_title(\"Axis 2 - label\", y=-0.8)\n",
    "\n",
    "\n",
    "# Remove axis ticks\n",
    "for ax in axes.flatten():\n",
    "    ax.set_xticks([])\n",
    "    ax.set_yticks([])\n",
    "\n",
    "fig.suptitle('HH', fontsize=16, y=0.7)\n",
    "\n",
    "# Display the images\n",
    "plt.tight_layout()\n",
    "plt.show()\n",
    "\"\"\"\n",
    "plt.subplot(2,6,1)\n",
    "plt.imshow(brain[0][20,:,:])\n",
    "plt.axis('off')\n",
    "plt.subplot(2,6,2)\n",
    "plt.imshow(label[0][20,:,:])\n",
    "plt.axis('off')\n",
    "plt.subplot(2,6,3)\n",
    "plt.imshow(brain[0][:,20,:])\n",
    "plt.axis('off')\n",
    "plt.subplot(2,6,4)\n",
    "plt.imshow(label[0][:,20,:])\n",
    "plt.axis('off')\n",
    "plt.subplot(2,6,5)\n",
    "plt.imshow(brain[0][:,:,20])\n",
    "plt.axis('off')\n",
    "plt.subplot(2,6,6)\n",
    "plt.imshow(label[0][:,:,20])\n",
    "plt.axis('off')\n",
    "plt.subplot(2,6,7)\n",
    "plt.imshow(transformed_image[0][20,:,:])\n",
    "plt.axis('off')\n",
    "plt.subplot(2,6,8)\n",
    "plt.imshow(transformed_label[0][20,:,:])\n",
    "plt.axis('off')\n",
    "plt.subplot(2,6,9)\n",
    "plt.imshow(transformed_image[0][:,20,:])\n",
    "plt.axis('off')\n",
    "plt.subplot(2,6,10)\n",
    "plt.imshow(transformed_label[0][:,20,:])\n",
    "plt.axis('off')\n",
    "plt.subplot(2,6,11)\n",
    "plt.imshow(transformed_image[0][:,:,20])\n",
    "plt.axis('off')\n",
    "plt.subplot(2,6,12)\n",
    "plt.imshow(transformed_label[0][:,:,20])\n",
    "plt.axis('off')\n",
    "\"\"\""
   ]
  },
  {
   "cell_type": "code",
   "execution_count": null,
   "metadata": {},
   "outputs": [],
   "source": [
    "# Define some transforms to apply to the image\n",
    "transforms = tio.Compose([\n",
    "    tio.Resample(1),    # Resample the image to 1 mm isotropic voxel size\n",
    "    tio.RandomFlip(),   # Randomly flip the image along one or more axes\n",
    "    tio.RandomAffine(), # Apply a random affine transformation to the image\n",
    "    tio.ZNormalization(),    # Normalize the intensities of the image to zero mean and unit variance\n",
    "    tio.RandomNoise(),  # Add random Gaussian noise to the image\n",
    "])\n",
    "\n",
    "# Apply the transforms to the subject\n",
    "transformed_subject = transforms(subject)"
   ]
  },
  {
   "cell_type": "code",
   "execution_count": null,
   "metadata": {},
   "outputs": [],
   "source": [
    "affine_transform = tio.RandomAffine()\n",
    "transformed_tensor = affine_transform(brain)\n",
    "plt.imshow(transformed_tensor[0][20,:,:])"
   ]
  },
  {
   "cell_type": "code",
   "execution_count": null,
   "metadata": {},
   "outputs": [],
   "source": [
    "transform = tio.ZNormalization()  # ZNormalization is a subclass of NormalizationTransform\n",
    "transformed = transform(temp)\n",
    "plt.imshow(transformed[0][20,:,:])"
   ]
  },
  {
   "cell_type": "code",
   "execution_count": null,
   "metadata": {},
   "outputs": [],
   "source": [
    "spatial_transforms = {\n",
    "    tio.RandomElasticDeformation(): 0.2,\n",
    "    tio.RandomAffine(): 0.8,\n",
    "}\n",
    "transform = tio.Compose([\n",
    "    tio.OneOf(spatial_transforms, p=0.5),\n",
    "    tio.RescaleIntensity(out_min_max=(0, 1)),\n",
    "])"
   ]
  },
  {
   "attachments": {},
   "cell_type": "markdown",
   "metadata": {},
   "source": [
    "# Dataset"
   ]
  },
  {
   "cell_type": "code",
   "execution_count": null,
   "metadata": {},
   "outputs": [],
   "source": [
    "class numpy_dataset(Dataset):  # Inherit from Dataset class\n",
    "    def __init__(self, data, target):\n",
    "        ## Add code here \n",
    "        self.data = data\n",
    "        self.target = target\n",
    "\n",
    "    def __getitem__(self, index):\n",
    "        x = self.data[index]\n",
    "        y = self.target[index]\n",
    "        return x, y\n",
    "\n",
    "    def __len__(self):\n",
    "        return len(self.data)\n",
    "    \n",
    "train_dataset = numpy_dataset(X_train, y_train)\n",
    "#val_dataset = numpy_dataset(X_val, y_val)\n",
    "\n",
    "train_dataloader = DataLoader(train_dataset, batch_size=16, shuffle=True, drop_last=True)\n",
    "#val_dataloader = DataLoader(val_dataset, batch_size=16, shuffle=False, drop_last=True)"
   ]
  },
  {
   "attachments": {},
   "cell_type": "markdown",
   "metadata": {},
   "source": [
    "# New 3D UNet"
   ]
  },
  {
   "cell_type": "code",
   "execution_count": 6,
   "metadata": {},
   "outputs": [],
   "source": [
    "from three_d.unet3d import UNet3D\n",
    "from three_d.residual_unet3d import Residual_UNet\n",
    "from three_d.fcn3d import FCN_Net\n",
    "from three_d.highresnet import HighRes3DNet\n",
    "from three_d.densenet3d import SkipDenseNet3D\n",
    "from three_d.densevoxelnet3d import DenseVoxelNet\n",
    "from three_d.vnet3d import VNet\n",
    "from three_d.unetr import UNETR"
   ]
  },
  {
   "cell_type": "code",
   "execution_count": null,
   "metadata": {},
   "outputs": [],
   "source": [
    "#from models.three_d.residual_unet3d import UNet\n",
    "#model = UNet(in_channels=hp.in_class, n_classes=hp.out_class+1, base_n_filter=2)\n",
    "\n",
    "#from models.three_d.fcn3d import FCN_Net\n",
    "#model = FCN_Net(in_channels =hp.in_class,n_class =hp.out_class+1)\n",
    "\n",
    "#from models.three_d.highresnet import HighRes3DNet\n",
    "#model = HighRes3DNet(in_channels=hp.in_class,out_channels=hp.out_class+1)\n",
    "\n",
    "#from models.three_d.densenet3d import SkipDenseNet3D\n",
    "#model = SkipDenseNet3D(in_channels=hp.in_class, classes=hp.out_class+1)\n",
    "\n",
    "# from models.three_d.densevoxelnet3d import DenseVoxelNet\n",
    "# model = DenseVoxelNet(in_channels=hp.in_class, classes=hp.out_class+1)\n",
    "\n",
    "#from models.three_d.vnet3d import VNet\n",
    "#model = VNet(in_channels=hp.in_class, classes=hp.out_class+1)\n",
    "\n",
    "#from models.three_d.unetr import UNETR\n",
    "#model = UNETR(img_shape=(hp.crop_or_pad_size), input_dim=hp.in_class, output_dim=hp.out_class+1)"
   ]
  },
  {
   "attachments": {},
   "cell_type": "markdown",
   "metadata": {},
   "source": [
    "# Train, Val, Test"
   ]
  },
  {
   "cell_type": "code",
   "execution_count": 7,
   "metadata": {},
   "outputs": [],
   "source": [
    "def L2RegLoss(main_loss, x, target, mu, model):\n",
    "\n",
    "    main_loss = main_loss(x, target)\n",
    "    penalty = 0\n",
    "    for i in model.parameters():\n",
    "        penalty += torch.sum(i**2)\n",
    "    J = main_loss + mu*penalty\n",
    "\n",
    "    return J"
   ]
  },
  {
   "cell_type": "code",
   "execution_count": 8,
   "metadata": {},
   "outputs": [],
   "source": [
    "def train(net, dataloader, optim, loss_func, epoch):\n",
    "    net.train()  #Put the network in train mode\n",
    "    total_loss = 0\n",
    "    batches = 0\n",
    "    \n",
    "    start = time.time()\n",
    "    for batch_idx, batch in enumerate(dataloader):\n",
    "\n",
    "        if True: #hp.debug:\n",
    "            if batch_idx >=5:\n",
    "                break\n",
    "        data = batch['image'][tio.DATA]\n",
    "        target = batch['label'][tio.DATA]\n",
    "        data, target = Variable(data).to(device), Variable(target).to(device)\n",
    "        batches += 1\n",
    "\n",
    "        # Training loop\n",
    "        optim.zero_grad()\n",
    "        pred = net(data) \n",
    "        target = target.to(torch.float32)\n",
    "        loss = loss_func(pred ,target) #L2RegLoss(loss_func, pred, target, 0.0001,net)\n",
    "        loss.backward()\n",
    "        optim.step()\n",
    "        \n",
    "        total_loss += loss\n",
    "        if batch_idx % 4 == 0: #Report stats every x batches\n",
    "                print('Train Epoch: {} [{}/{} ({:.0f}%)]\\tLoss: {:.6f}'.format(\n",
    "                    epoch, (batch_idx+1) * len(data), len(dataloader.dataset),\n",
    "                           100. * (batch_idx+1) / len(dataloader), loss.item()), flush=True)\n",
    "    av_loss = total_loss / batches\n",
    "    av_loss = av_loss.detach().cpu().numpy()\n",
    "    print('\\nTraining set: Average loss: {:.4f}'.format(av_loss,  flush=True))\n",
    "    total_time = time.time() - start\n",
    "    print('Time taken for epoch = ', total_time)\n",
    "    return av_loss\n",
    "\n",
    "def val(net, val_dataloader, optim, loss_func, epoch):\n",
    "    net.eval()  #Put the model in eval mode\n",
    "    total_loss = 0    \n",
    "    batches = 0\n",
    "    with torch.no_grad():  # So no gradients accumulate\n",
    "        for batch_idx, batch in enumerate(val_dataloader):\n",
    "            batches += 1\n",
    "            data = batch['image'][tio.DATA]\n",
    "            target = batch['label'][tio.DATA]\n",
    "            data, target = Variable(data).to(device), Variable(target).to(device)\n",
    "            # Eval steps\n",
    "            optim.zero_grad()\n",
    "            target = target.to(torch.float32)\n",
    "\n",
    "            pred = net(data) \n",
    "            loss = loss_func(pred ,target)\n",
    "            \n",
    "            total_loss += loss\n",
    "        av_loss = total_loss / batches\n",
    "        \n",
    "    av_loss = av_loss.detach().numpy()\n",
    "    print('Validation set: Average loss: {:.4f}'.format(av_loss,  flush=True))\n",
    "    print('\\n')\n",
    "    return av_loss"
   ]
  },
  {
   "attachments": {},
   "cell_type": "markdown",
   "metadata": {},
   "source": [
    "## Train"
   ]
  },
  {
   "cell_type": "code",
   "execution_count": 9,
   "metadata": {},
   "outputs": [],
   "source": [
    "def count_parameters(model: torch.nn.Module) -> int: # return type is int\n",
    "    \"\"\" Returns the number of learnable parameters for a PyTorch model \"\"\"\n",
    "    return sum(p.numel() for p in model.parameters() if p.requires_grad)"
   ]
  },
  {
   "cell_type": "code",
   "execution_count": 10,
   "metadata": {},
   "outputs": [],
   "source": [
    "net = UNet3D(in_channels=1, out_channels=2, init_features=16).to(device)"
   ]
  },
  {
   "cell_type": "code",
   "execution_count": 11,
   "metadata": {},
   "outputs": [
    {
     "data": {
      "text/plain": [
       "UNet3D(\n",
       "  (encoder1): Sequential(\n",
       "    (enc1conv1): Conv3d(1, 16, kernel_size=(3, 3, 3), stride=(1, 1, 1), padding=(1, 1, 1))\n",
       "    (enc1norm1): BatchNorm3d(16, eps=1e-05, momentum=0.1, affine=True, track_running_stats=True)\n",
       "    (enc1relu1): ReLU(inplace=True)\n",
       "    (enc1conv2): Conv3d(16, 16, kernel_size=(3, 3, 3), stride=(1, 1, 1), padding=(1, 1, 1))\n",
       "    (enc1norm2): BatchNorm3d(16, eps=1e-05, momentum=0.1, affine=True, track_running_stats=True)\n",
       "    (enc1relu2): ReLU(inplace=True)\n",
       "  )\n",
       "  (pool1): MaxPool3d(kernel_size=2, stride=2, padding=0, dilation=1, ceil_mode=False)\n",
       "  (encoder2): Sequential(\n",
       "    (enc2conv1): Conv3d(16, 32, kernel_size=(3, 3, 3), stride=(1, 1, 1), padding=(1, 1, 1))\n",
       "    (enc2norm1): BatchNorm3d(32, eps=1e-05, momentum=0.1, affine=True, track_running_stats=True)\n",
       "    (enc2relu1): ReLU(inplace=True)\n",
       "    (enc2conv2): Conv3d(32, 32, kernel_size=(3, 3, 3), stride=(1, 1, 1), padding=(1, 1, 1))\n",
       "    (enc2norm2): BatchNorm3d(32, eps=1e-05, momentum=0.1, affine=True, track_running_stats=True)\n",
       "    (enc2relu2): ReLU(inplace=True)\n",
       "  )\n",
       "  (pool2): MaxPool3d(kernel_size=2, stride=2, padding=0, dilation=1, ceil_mode=False)\n",
       "  (encoder3): Sequential(\n",
       "    (enc3conv1): Conv3d(32, 64, kernel_size=(3, 3, 3), stride=(1, 1, 1), padding=(1, 1, 1))\n",
       "    (enc3norm1): BatchNorm3d(64, eps=1e-05, momentum=0.1, affine=True, track_running_stats=True)\n",
       "    (enc3relu1): ReLU(inplace=True)\n",
       "    (enc3conv2): Conv3d(64, 64, kernel_size=(3, 3, 3), stride=(1, 1, 1), padding=(1, 1, 1))\n",
       "    (enc3norm2): BatchNorm3d(64, eps=1e-05, momentum=0.1, affine=True, track_running_stats=True)\n",
       "    (enc3relu2): ReLU(inplace=True)\n",
       "  )\n",
       "  (pool3): MaxPool3d(kernel_size=2, stride=2, padding=0, dilation=1, ceil_mode=False)\n",
       "  (encoder4): Sequential(\n",
       "    (enc4conv1): Conv3d(64, 128, kernel_size=(3, 3, 3), stride=(1, 1, 1), padding=(1, 1, 1))\n",
       "    (enc4norm1): BatchNorm3d(128, eps=1e-05, momentum=0.1, affine=True, track_running_stats=True)\n",
       "    (enc4relu1): ReLU(inplace=True)\n",
       "    (enc4conv2): Conv3d(128, 128, kernel_size=(3, 3, 3), stride=(1, 1, 1), padding=(1, 1, 1))\n",
       "    (enc4norm2): BatchNorm3d(128, eps=1e-05, momentum=0.1, affine=True, track_running_stats=True)\n",
       "    (enc4relu2): ReLU(inplace=True)\n",
       "  )\n",
       "  (pool4): MaxPool3d(kernel_size=2, stride=2, padding=0, dilation=1, ceil_mode=False)\n",
       "  (bottleneck): Sequential(\n",
       "    (bottleneckconv1): Conv3d(128, 256, kernel_size=(3, 3, 3), stride=(1, 1, 1), padding=(1, 1, 1))\n",
       "    (bottlenecknorm1): BatchNorm3d(256, eps=1e-05, momentum=0.1, affine=True, track_running_stats=True)\n",
       "    (bottleneckrelu1): ReLU(inplace=True)\n",
       "    (bottleneckconv2): Conv3d(256, 256, kernel_size=(3, 3, 3), stride=(1, 1, 1), padding=(1, 1, 1))\n",
       "    (bottlenecknorm2): BatchNorm3d(256, eps=1e-05, momentum=0.1, affine=True, track_running_stats=True)\n",
       "    (bottleneckrelu2): ReLU(inplace=True)\n",
       "  )\n",
       "  (upconv4): ConvTranspose3d(256, 128, kernel_size=(2, 2, 2), stride=(2, 2, 2))\n",
       "  (decoder4): Sequential(\n",
       "    (dec4conv1): Conv3d(256, 128, kernel_size=(3, 3, 3), stride=(1, 1, 1), padding=(1, 1, 1))\n",
       "    (dec4norm1): BatchNorm3d(128, eps=1e-05, momentum=0.1, affine=True, track_running_stats=True)\n",
       "    (dec4relu1): ReLU(inplace=True)\n",
       "    (dec4conv2): Conv3d(128, 128, kernel_size=(3, 3, 3), stride=(1, 1, 1), padding=(1, 1, 1))\n",
       "    (dec4norm2): BatchNorm3d(128, eps=1e-05, momentum=0.1, affine=True, track_running_stats=True)\n",
       "    (dec4relu2): ReLU(inplace=True)\n",
       "  )\n",
       "  (upconv3): ConvTranspose3d(128, 64, kernel_size=(2, 2, 2), stride=(2, 2, 2))\n",
       "  (decoder3): Sequential(\n",
       "    (dec3conv1): Conv3d(128, 64, kernel_size=(3, 3, 3), stride=(1, 1, 1), padding=(1, 1, 1))\n",
       "    (dec3norm1): BatchNorm3d(64, eps=1e-05, momentum=0.1, affine=True, track_running_stats=True)\n",
       "    (dec3relu1): ReLU(inplace=True)\n",
       "    (dec3conv2): Conv3d(64, 64, kernel_size=(3, 3, 3), stride=(1, 1, 1), padding=(1, 1, 1))\n",
       "    (dec3norm2): BatchNorm3d(64, eps=1e-05, momentum=0.1, affine=True, track_running_stats=True)\n",
       "    (dec3relu2): ReLU(inplace=True)\n",
       "  )\n",
       "  (upconv2): ConvTranspose3d(64, 32, kernel_size=(2, 2, 2), stride=(2, 2, 2))\n",
       "  (decoder2): Sequential(\n",
       "    (dec2conv1): Conv3d(64, 32, kernel_size=(3, 3, 3), stride=(1, 1, 1), padding=(1, 1, 1))\n",
       "    (dec2norm1): BatchNorm3d(32, eps=1e-05, momentum=0.1, affine=True, track_running_stats=True)\n",
       "    (dec2relu1): ReLU(inplace=True)\n",
       "    (dec2conv2): Conv3d(32, 32, kernel_size=(3, 3, 3), stride=(1, 1, 1), padding=(1, 1, 1))\n",
       "    (dec2norm2): BatchNorm3d(32, eps=1e-05, momentum=0.1, affine=True, track_running_stats=True)\n",
       "    (dec2relu2): ReLU(inplace=True)\n",
       "  )\n",
       "  (upconv1): ConvTranspose3d(32, 16, kernel_size=(2, 2, 2), stride=(2, 2, 2))\n",
       "  (decoder1): Sequential(\n",
       "    (dec1conv1): Conv3d(32, 16, kernel_size=(3, 3, 3), stride=(1, 1, 1), padding=(1, 1, 1))\n",
       "    (dec1norm1): BatchNorm3d(16, eps=1e-05, momentum=0.1, affine=True, track_running_stats=True)\n",
       "    (dec1relu1): ReLU(inplace=True)\n",
       "    (dec1conv2): Conv3d(16, 16, kernel_size=(3, 3, 3), stride=(1, 1, 1), padding=(1, 1, 1))\n",
       "    (dec1norm2): BatchNorm3d(16, eps=1e-05, momentum=0.1, affine=True, track_running_stats=True)\n",
       "    (dec1relu2): ReLU(inplace=True)\n",
       "  )\n",
       "  (conv): Conv3d(16, 2, kernel_size=(1, 1, 1), stride=(1, 1, 1))\n",
       "  (act): Sigmoid()\n",
       ")"
      ]
     },
     "execution_count": 11,
     "metadata": {},
     "output_type": "execute_result"
    }
   ],
   "source": [
    "net"
   ]
  },
  {
   "cell_type": "code",
   "execution_count": 12,
   "metadata": {},
   "outputs": [
    {
     "name": "stdout",
     "output_type": "stream",
     "text": [
      "Trainable params:  5647874\n",
      "Loss Function is DiceCELoss\n",
      "x:  torch.Size([16, 1, 48, 128, 128])\n",
      "outputs:  torch.Size([16, 2, 48, 128, 128])\n",
      "Train Epoch: 1 [16/338 (5%)]\tLoss: 1.176963\n",
      "x:  torch.Size([16, 1, 48, 128, 128])\n",
      "outputs:  torch.Size([16, 2, 48, 128, 128])\n",
      "x:  torch.Size([16, 1, 48, 128, 128])\n",
      "outputs:  torch.Size([16, 2, 48, 128, 128])\n",
      "x:  torch.Size([16, 1, 48, 128, 128])\n",
      "outputs:  torch.Size([16, 2, 48, 128, 128])\n",
      "x:  torch.Size([16, 1, 48, 128, 128])\n",
      "outputs:  torch.Size([16, 2, 48, 128, 128])\n",
      "Train Epoch: 1 [80/338 (23%)]\tLoss: 0.997413\n",
      "\n",
      "Training set: Average loss: 1.0814\n",
      "Time taken for epoch =  472.51298546791077\n",
      "x:  torch.Size([16, 1, 48, 128, 128])\n",
      "outputs:  torch.Size([16, 2, 48, 128, 128])\n",
      "x:  torch.Size([16, 1, 48, 128, 128])\n",
      "outputs:  torch.Size([16, 2, 48, 128, 128])\n",
      "x:  torch.Size([16, 1, 48, 128, 128])\n",
      "outputs:  torch.Size([16, 2, 48, 128, 128])\n",
      "x:  torch.Size([16, 1, 48, 128, 128])\n",
      "outputs:  torch.Size([16, 2, 48, 128, 128])\n",
      "x:  torch.Size([16, 1, 48, 128, 128])\n",
      "outputs:  torch.Size([16, 2, 48, 128, 128])\n",
      "x:  torch.Size([16, 1, 48, 128, 128])\n",
      "outputs:  torch.Size([16, 2, 48, 128, 128])\n",
      "x:  torch.Size([16, 1, 48, 128, 128])\n",
      "outputs:  torch.Size([16, 2, 48, 128, 128])\n",
      "x:  torch.Size([1, 1, 48, 128, 128])\n",
      "outputs:  torch.Size([1, 2, 48, 128, 128])\n",
      "Validation set: Average loss: 1.0564\n",
      "\n",
      "\n",
      "x:  torch.Size([16, 1, 48, 128, 128])\n",
      "outputs:  torch.Size([16, 2, 48, 128, 128])\n",
      "Train Epoch: 2 [16/338 (5%)]\tLoss: 0.979303\n",
      "x:  torch.Size([16, 1, 48, 128, 128])\n",
      "outputs:  torch.Size([16, 2, 48, 128, 128])\n",
      "x:  torch.Size([16, 1, 48, 128, 128])\n",
      "outputs:  torch.Size([16, 2, 48, 128, 128])\n",
      "x:  torch.Size([16, 1, 48, 128, 128])\n",
      "outputs:  torch.Size([16, 2, 48, 128, 128])\n",
      "x:  torch.Size([16, 1, 48, 128, 128])\n",
      "outputs:  torch.Size([16, 2, 48, 128, 128])\n",
      "Train Epoch: 2 [80/338 (23%)]\tLoss: 0.879873\n",
      "\n",
      "Training set: Average loss: 0.9259\n",
      "Time taken for epoch =  440.07676124572754\n",
      "x:  torch.Size([16, 1, 48, 128, 128])\n",
      "outputs:  torch.Size([16, 2, 48, 128, 128])\n",
      "x:  torch.Size([16, 1, 48, 128, 128])\n",
      "outputs:  torch.Size([16, 2, 48, 128, 128])\n",
      "x:  torch.Size([16, 1, 48, 128, 128])\n",
      "outputs:  torch.Size([16, 2, 48, 128, 128])\n",
      "x:  torch.Size([16, 1, 48, 128, 128])\n",
      "outputs:  torch.Size([16, 2, 48, 128, 128])\n",
      "x:  torch.Size([16, 1, 48, 128, 128])\n",
      "outputs:  torch.Size([16, 2, 48, 128, 128])\n",
      "x:  torch.Size([16, 1, 48, 128, 128])\n",
      "outputs:  torch.Size([16, 2, 48, 128, 128])\n",
      "x:  torch.Size([16, 1, 48, 128, 128])\n",
      "outputs:  torch.Size([16, 2, 48, 128, 128])\n",
      "x:  torch.Size([1, 1, 48, 128, 128])\n",
      "outputs:  torch.Size([1, 2, 48, 128, 128])\n",
      "Validation set: Average loss: 1.8055\n",
      "\n",
      "\n",
      "x:  torch.Size([16, 1, 48, 128, 128])\n",
      "outputs:  torch.Size([16, 2, 48, 128, 128])\n",
      "Train Epoch: 3 [16/338 (5%)]\tLoss: 0.861475\n"
     ]
    },
    {
     "ename": "KeyboardInterrupt",
     "evalue": "",
     "output_type": "error",
     "traceback": [
      "\u001b[0;31m---------------------------------------------------------------------------\u001b[0m",
      "\u001b[0;31mKeyboardInterrupt\u001b[0m                         Traceback (most recent call last)",
      "\u001b[0;32m/tmp/ipykernel_51709/1287119335.py\u001b[0m in \u001b[0;36m<cell line: 9>\u001b[0;34m()\u001b[0m\n\u001b[1;32m     25\u001b[0m     \u001b[0mearly_stop\u001b[0m \u001b[0;34m=\u001b[0m \u001b[0;36m0\u001b[0m\u001b[0;34m\u001b[0m\u001b[0;34m\u001b[0m\u001b[0m\n\u001b[1;32m     26\u001b[0m     \u001b[0;32mfor\u001b[0m \u001b[0mepoch\u001b[0m \u001b[0;32min\u001b[0m \u001b[0mrange\u001b[0m\u001b[0;34m(\u001b[0m\u001b[0;36m1\u001b[0m\u001b[0;34m,\u001b[0m \u001b[0mmax_epochs\u001b[0m\u001b[0;34m+\u001b[0m\u001b[0;36m1\u001b[0m\u001b[0;34m)\u001b[0m\u001b[0;34m:\u001b[0m\u001b[0;34m\u001b[0m\u001b[0;34m\u001b[0m\u001b[0m\n\u001b[0;32m---> 27\u001b[0;31m         \u001b[0mtrain_loss\u001b[0m \u001b[0;34m=\u001b[0m \u001b[0mtrain\u001b[0m\u001b[0;34m(\u001b[0m\u001b[0mnet\u001b[0m\u001b[0;34m,\u001b[0m \u001b[0mtrain_dataloader\u001b[0m\u001b[0;34m,\u001b[0m \u001b[0moptim\u001b[0m\u001b[0;34m,\u001b[0m \u001b[0mclass_loss\u001b[0m\u001b[0;34m,\u001b[0m \u001b[0mepoch\u001b[0m\u001b[0;34m)\u001b[0m\u001b[0;34m\u001b[0m\u001b[0;34m\u001b[0m\u001b[0m\n\u001b[0m\u001b[1;32m     28\u001b[0m         \u001b[0mval_loss\u001b[0m \u001b[0;34m=\u001b[0m \u001b[0mval\u001b[0m\u001b[0;34m(\u001b[0m\u001b[0mnet\u001b[0m\u001b[0;34m,\u001b[0m \u001b[0mval_dataloader\u001b[0m\u001b[0;34m,\u001b[0m \u001b[0moptim\u001b[0m\u001b[0;34m,\u001b[0m \u001b[0mclass_loss\u001b[0m\u001b[0;34m,\u001b[0m \u001b[0mepoch\u001b[0m\u001b[0;34m)\u001b[0m\u001b[0;34m\u001b[0m\u001b[0;34m\u001b[0m\u001b[0m\n\u001b[1;32m     29\u001b[0m         \u001b[0;32mif\u001b[0m \u001b[0mval_loss\u001b[0m \u001b[0;34m<\u001b[0m \u001b[0mcheck_point\u001b[0m\u001b[0;34m:\u001b[0m\u001b[0;34m\u001b[0m\u001b[0;34m\u001b[0m\u001b[0m\n",
      "\u001b[0;32m/tmp/ipykernel_51709/1822840632.py\u001b[0m in \u001b[0;36mtrain\u001b[0;34m(net, dataloader, optim, loss_func, epoch)\u001b[0m\n\u001b[1;32m      5\u001b[0m \u001b[0;34m\u001b[0m\u001b[0m\n\u001b[1;32m      6\u001b[0m     \u001b[0mstart\u001b[0m \u001b[0;34m=\u001b[0m \u001b[0mtime\u001b[0m\u001b[0;34m.\u001b[0m\u001b[0mtime\u001b[0m\u001b[0;34m(\u001b[0m\u001b[0;34m)\u001b[0m\u001b[0;34m\u001b[0m\u001b[0;34m\u001b[0m\u001b[0m\n\u001b[0;32m----> 7\u001b[0;31m     \u001b[0;32mfor\u001b[0m \u001b[0mbatch_idx\u001b[0m\u001b[0;34m,\u001b[0m \u001b[0mbatch\u001b[0m \u001b[0;32min\u001b[0m \u001b[0menumerate\u001b[0m\u001b[0;34m(\u001b[0m\u001b[0mdataloader\u001b[0m\u001b[0;34m)\u001b[0m\u001b[0;34m:\u001b[0m\u001b[0;34m\u001b[0m\u001b[0;34m\u001b[0m\u001b[0m\n\u001b[0m\u001b[1;32m      8\u001b[0m \u001b[0;34m\u001b[0m\u001b[0m\n\u001b[1;32m      9\u001b[0m         \u001b[0;32mif\u001b[0m \u001b[0;32mTrue\u001b[0m\u001b[0;34m:\u001b[0m \u001b[0;31m#hp.debug:\u001b[0m\u001b[0;34m\u001b[0m\u001b[0;34m\u001b[0m\u001b[0m\n",
      "\u001b[0;32m~/anaconda3/lib/python3.9/site-packages/torch/utils/data/dataloader.py\u001b[0m in \u001b[0;36m__next__\u001b[0;34m(self)\u001b[0m\n\u001b[1;32m    626\u001b[0m                 \u001b[0;31m# TODO(https://github.com/pytorch/pytorch/issues/76750)\u001b[0m\u001b[0;34m\u001b[0m\u001b[0;34m\u001b[0m\u001b[0m\n\u001b[1;32m    627\u001b[0m                 \u001b[0mself\u001b[0m\u001b[0;34m.\u001b[0m\u001b[0m_reset\u001b[0m\u001b[0;34m(\u001b[0m\u001b[0;34m)\u001b[0m  \u001b[0;31m# type: ignore[call-arg]\u001b[0m\u001b[0;34m\u001b[0m\u001b[0;34m\u001b[0m\u001b[0m\n\u001b[0;32m--> 628\u001b[0;31m             \u001b[0mdata\u001b[0m \u001b[0;34m=\u001b[0m \u001b[0mself\u001b[0m\u001b[0;34m.\u001b[0m\u001b[0m_next_data\u001b[0m\u001b[0;34m(\u001b[0m\u001b[0;34m)\u001b[0m\u001b[0;34m\u001b[0m\u001b[0;34m\u001b[0m\u001b[0m\n\u001b[0m\u001b[1;32m    629\u001b[0m             \u001b[0mself\u001b[0m\u001b[0;34m.\u001b[0m\u001b[0m_num_yielded\u001b[0m \u001b[0;34m+=\u001b[0m \u001b[0;36m1\u001b[0m\u001b[0;34m\u001b[0m\u001b[0;34m\u001b[0m\u001b[0m\n\u001b[1;32m    630\u001b[0m             \u001b[0;32mif\u001b[0m \u001b[0mself\u001b[0m\u001b[0;34m.\u001b[0m\u001b[0m_dataset_kind\u001b[0m \u001b[0;34m==\u001b[0m \u001b[0m_DatasetKind\u001b[0m\u001b[0;34m.\u001b[0m\u001b[0mIterable\u001b[0m \u001b[0;32mand\u001b[0m\u001b[0;31m \u001b[0m\u001b[0;31m\\\u001b[0m\u001b[0;34m\u001b[0m\u001b[0;34m\u001b[0m\u001b[0m\n",
      "\u001b[0;32m~/anaconda3/lib/python3.9/site-packages/torch/utils/data/dataloader.py\u001b[0m in \u001b[0;36m_next_data\u001b[0;34m(self)\u001b[0m\n\u001b[1;32m    669\u001b[0m     \u001b[0;32mdef\u001b[0m \u001b[0m_next_data\u001b[0m\u001b[0;34m(\u001b[0m\u001b[0mself\u001b[0m\u001b[0;34m)\u001b[0m\u001b[0;34m:\u001b[0m\u001b[0;34m\u001b[0m\u001b[0;34m\u001b[0m\u001b[0m\n\u001b[1;32m    670\u001b[0m         \u001b[0mindex\u001b[0m \u001b[0;34m=\u001b[0m \u001b[0mself\u001b[0m\u001b[0;34m.\u001b[0m\u001b[0m_next_index\u001b[0m\u001b[0;34m(\u001b[0m\u001b[0;34m)\u001b[0m  \u001b[0;31m# may raise StopIteration\u001b[0m\u001b[0;34m\u001b[0m\u001b[0;34m\u001b[0m\u001b[0m\n\u001b[0;32m--> 671\u001b[0;31m         \u001b[0mdata\u001b[0m \u001b[0;34m=\u001b[0m \u001b[0mself\u001b[0m\u001b[0;34m.\u001b[0m\u001b[0m_dataset_fetcher\u001b[0m\u001b[0;34m.\u001b[0m\u001b[0mfetch\u001b[0m\u001b[0;34m(\u001b[0m\u001b[0mindex\u001b[0m\u001b[0;34m)\u001b[0m  \u001b[0;31m# may raise StopIteration\u001b[0m\u001b[0;34m\u001b[0m\u001b[0;34m\u001b[0m\u001b[0m\n\u001b[0m\u001b[1;32m    672\u001b[0m         \u001b[0;32mif\u001b[0m \u001b[0mself\u001b[0m\u001b[0;34m.\u001b[0m\u001b[0m_pin_memory\u001b[0m\u001b[0;34m:\u001b[0m\u001b[0;34m\u001b[0m\u001b[0;34m\u001b[0m\u001b[0m\n\u001b[1;32m    673\u001b[0m             \u001b[0mdata\u001b[0m \u001b[0;34m=\u001b[0m \u001b[0m_utils\u001b[0m\u001b[0;34m.\u001b[0m\u001b[0mpin_memory\u001b[0m\u001b[0;34m.\u001b[0m\u001b[0mpin_memory\u001b[0m\u001b[0;34m(\u001b[0m\u001b[0mdata\u001b[0m\u001b[0;34m,\u001b[0m \u001b[0mself\u001b[0m\u001b[0;34m.\u001b[0m\u001b[0m_pin_memory_device\u001b[0m\u001b[0;34m)\u001b[0m\u001b[0;34m\u001b[0m\u001b[0;34m\u001b[0m\u001b[0m\n",
      "\u001b[0;32m~/anaconda3/lib/python3.9/site-packages/torch/utils/data/_utils/fetch.py\u001b[0m in \u001b[0;36mfetch\u001b[0;34m(self, possibly_batched_index)\u001b[0m\n\u001b[1;32m     56\u001b[0m                 \u001b[0mdata\u001b[0m \u001b[0;34m=\u001b[0m \u001b[0mself\u001b[0m\u001b[0;34m.\u001b[0m\u001b[0mdataset\u001b[0m\u001b[0;34m.\u001b[0m\u001b[0m__getitems__\u001b[0m\u001b[0;34m(\u001b[0m\u001b[0mpossibly_batched_index\u001b[0m\u001b[0;34m)\u001b[0m\u001b[0;34m\u001b[0m\u001b[0;34m\u001b[0m\u001b[0m\n\u001b[1;32m     57\u001b[0m             \u001b[0;32melse\u001b[0m\u001b[0;34m:\u001b[0m\u001b[0;34m\u001b[0m\u001b[0;34m\u001b[0m\u001b[0m\n\u001b[0;32m---> 58\u001b[0;31m                 \u001b[0mdata\u001b[0m \u001b[0;34m=\u001b[0m \u001b[0;34m[\u001b[0m\u001b[0mself\u001b[0m\u001b[0;34m.\u001b[0m\u001b[0mdataset\u001b[0m\u001b[0;34m[\u001b[0m\u001b[0midx\u001b[0m\u001b[0;34m]\u001b[0m \u001b[0;32mfor\u001b[0m \u001b[0midx\u001b[0m \u001b[0;32min\u001b[0m \u001b[0mpossibly_batched_index\u001b[0m\u001b[0;34m]\u001b[0m\u001b[0;34m\u001b[0m\u001b[0;34m\u001b[0m\u001b[0m\n\u001b[0m\u001b[1;32m     59\u001b[0m         \u001b[0;32melse\u001b[0m\u001b[0;34m:\u001b[0m\u001b[0;34m\u001b[0m\u001b[0;34m\u001b[0m\u001b[0m\n\u001b[1;32m     60\u001b[0m             \u001b[0mdata\u001b[0m \u001b[0;34m=\u001b[0m \u001b[0mself\u001b[0m\u001b[0;34m.\u001b[0m\u001b[0mdataset\u001b[0m\u001b[0;34m[\u001b[0m\u001b[0mpossibly_batched_index\u001b[0m\u001b[0;34m]\u001b[0m\u001b[0;34m\u001b[0m\u001b[0;34m\u001b[0m\u001b[0m\n",
      "\u001b[0;32m~/anaconda3/lib/python3.9/site-packages/torch/utils/data/_utils/fetch.py\u001b[0m in \u001b[0;36m<listcomp>\u001b[0;34m(.0)\u001b[0m\n\u001b[1;32m     56\u001b[0m                 \u001b[0mdata\u001b[0m \u001b[0;34m=\u001b[0m \u001b[0mself\u001b[0m\u001b[0;34m.\u001b[0m\u001b[0mdataset\u001b[0m\u001b[0;34m.\u001b[0m\u001b[0m__getitems__\u001b[0m\u001b[0;34m(\u001b[0m\u001b[0mpossibly_batched_index\u001b[0m\u001b[0;34m)\u001b[0m\u001b[0;34m\u001b[0m\u001b[0;34m\u001b[0m\u001b[0m\n\u001b[1;32m     57\u001b[0m             \u001b[0;32melse\u001b[0m\u001b[0;34m:\u001b[0m\u001b[0;34m\u001b[0m\u001b[0;34m\u001b[0m\u001b[0m\n\u001b[0;32m---> 58\u001b[0;31m                 \u001b[0mdata\u001b[0m \u001b[0;34m=\u001b[0m \u001b[0;34m[\u001b[0m\u001b[0mself\u001b[0m\u001b[0;34m.\u001b[0m\u001b[0mdataset\u001b[0m\u001b[0;34m[\u001b[0m\u001b[0midx\u001b[0m\u001b[0;34m]\u001b[0m \u001b[0;32mfor\u001b[0m \u001b[0midx\u001b[0m \u001b[0;32min\u001b[0m \u001b[0mpossibly_batched_index\u001b[0m\u001b[0;34m]\u001b[0m\u001b[0;34m\u001b[0m\u001b[0;34m\u001b[0m\u001b[0m\n\u001b[0m\u001b[1;32m     59\u001b[0m         \u001b[0;32melse\u001b[0m\u001b[0;34m:\u001b[0m\u001b[0;34m\u001b[0m\u001b[0;34m\u001b[0m\u001b[0m\n\u001b[1;32m     60\u001b[0m             \u001b[0mdata\u001b[0m \u001b[0;34m=\u001b[0m \u001b[0mself\u001b[0m\u001b[0;34m.\u001b[0m\u001b[0mdataset\u001b[0m\u001b[0;34m[\u001b[0m\u001b[0mpossibly_batched_index\u001b[0m\u001b[0;34m]\u001b[0m\u001b[0;34m\u001b[0m\u001b[0;34m\u001b[0m\u001b[0m\n",
      "\u001b[0;32m~/anaconda3/lib/python3.9/site-packages/torchio/data/dataset.py\u001b[0m in \u001b[0;36m__getitem__\u001b[0;34m(self, index)\u001b[0m\n\u001b[1;32m     97\u001b[0m         \u001b[0;31m# Apply transform (this is usually the bottleneck)\u001b[0m\u001b[0;34m\u001b[0m\u001b[0;34m\u001b[0m\u001b[0m\n\u001b[1;32m     98\u001b[0m         \u001b[0;32mif\u001b[0m \u001b[0mself\u001b[0m\u001b[0;34m.\u001b[0m\u001b[0m_transform\u001b[0m \u001b[0;32mis\u001b[0m \u001b[0;32mnot\u001b[0m \u001b[0;32mNone\u001b[0m\u001b[0;34m:\u001b[0m\u001b[0;34m\u001b[0m\u001b[0;34m\u001b[0m\u001b[0m\n\u001b[0;32m---> 99\u001b[0;31m             \u001b[0msubject\u001b[0m \u001b[0;34m=\u001b[0m \u001b[0mself\u001b[0m\u001b[0;34m.\u001b[0m\u001b[0m_transform\u001b[0m\u001b[0;34m(\u001b[0m\u001b[0msubject\u001b[0m\u001b[0;34m)\u001b[0m\u001b[0;34m\u001b[0m\u001b[0;34m\u001b[0m\u001b[0m\n\u001b[0m\u001b[1;32m    100\u001b[0m         \u001b[0;32mreturn\u001b[0m \u001b[0msubject\u001b[0m\u001b[0;34m\u001b[0m\u001b[0;34m\u001b[0m\u001b[0m\n\u001b[1;32m    101\u001b[0m \u001b[0;34m\u001b[0m\u001b[0m\n",
      "\u001b[0;32m~/anaconda3/lib/python3.9/site-packages/torchio/transforms/transform.py\u001b[0m in \u001b[0;36m__call__\u001b[0;34m(self, data)\u001b[0m\n\u001b[1;32m    156\u001b[0m             \u001b[0msubject\u001b[0m \u001b[0;34m=\u001b[0m \u001b[0mcopy\u001b[0m\u001b[0;34m.\u001b[0m\u001b[0mcopy\u001b[0m\u001b[0;34m(\u001b[0m\u001b[0msubject\u001b[0m\u001b[0;34m)\u001b[0m\u001b[0;34m\u001b[0m\u001b[0;34m\u001b[0m\u001b[0m\n\u001b[1;32m    157\u001b[0m         \u001b[0;32mwith\u001b[0m \u001b[0mnp\u001b[0m\u001b[0;34m.\u001b[0m\u001b[0merrstate\u001b[0m\u001b[0;34m(\u001b[0m\u001b[0mall\u001b[0m\u001b[0;34m=\u001b[0m\u001b[0;34m'raise'\u001b[0m\u001b[0;34m,\u001b[0m \u001b[0munder\u001b[0m\u001b[0;34m=\u001b[0m\u001b[0;34m'ignore'\u001b[0m\u001b[0;34m)\u001b[0m\u001b[0;34m:\u001b[0m\u001b[0;34m\u001b[0m\u001b[0;34m\u001b[0m\u001b[0m\n\u001b[0;32m--> 158\u001b[0;31m             \u001b[0mtransformed\u001b[0m \u001b[0;34m=\u001b[0m \u001b[0mself\u001b[0m\u001b[0;34m.\u001b[0m\u001b[0mapply_transform\u001b[0m\u001b[0;34m(\u001b[0m\u001b[0msubject\u001b[0m\u001b[0;34m)\u001b[0m\u001b[0;34m\u001b[0m\u001b[0;34m\u001b[0m\u001b[0m\n\u001b[0m\u001b[1;32m    159\u001b[0m         \u001b[0;32mif\u001b[0m \u001b[0mself\u001b[0m\u001b[0;34m.\u001b[0m\u001b[0mkeep\u001b[0m \u001b[0;32mis\u001b[0m \u001b[0;32mnot\u001b[0m \u001b[0;32mNone\u001b[0m\u001b[0;34m:\u001b[0m\u001b[0;34m\u001b[0m\u001b[0;34m\u001b[0m\u001b[0m\n\u001b[1;32m    160\u001b[0m             \u001b[0;32mfor\u001b[0m \u001b[0mname\u001b[0m\u001b[0;34m,\u001b[0m \u001b[0mimage\u001b[0m \u001b[0;32min\u001b[0m \u001b[0mimages_to_keep\u001b[0m\u001b[0;34m.\u001b[0m\u001b[0mitems\u001b[0m\u001b[0;34m(\u001b[0m\u001b[0;34m)\u001b[0m\u001b[0;34m:\u001b[0m\u001b[0;34m\u001b[0m\u001b[0;34m\u001b[0m\u001b[0m\n",
      "\u001b[0;32m~/anaconda3/lib/python3.9/site-packages/torchio/transforms/augmentation/composition.py\u001b[0m in \u001b[0;36mapply_transform\u001b[0;34m(self, subject)\u001b[0m\n\u001b[1;32m     49\u001b[0m     \u001b[0;32mdef\u001b[0m \u001b[0mapply_transform\u001b[0m\u001b[0;34m(\u001b[0m\u001b[0mself\u001b[0m\u001b[0;34m,\u001b[0m \u001b[0msubject\u001b[0m\u001b[0;34m:\u001b[0m \u001b[0mSubject\u001b[0m\u001b[0;34m)\u001b[0m \u001b[0;34m->\u001b[0m \u001b[0mSubject\u001b[0m\u001b[0;34m:\u001b[0m\u001b[0;34m\u001b[0m\u001b[0;34m\u001b[0m\u001b[0m\n\u001b[1;32m     50\u001b[0m         \u001b[0;32mfor\u001b[0m \u001b[0mtransform\u001b[0m \u001b[0;32min\u001b[0m \u001b[0mself\u001b[0m\u001b[0;34m.\u001b[0m\u001b[0mtransforms\u001b[0m\u001b[0;34m:\u001b[0m\u001b[0;34m\u001b[0m\u001b[0;34m\u001b[0m\u001b[0m\n\u001b[0;32m---> 51\u001b[0;31m             \u001b[0msubject\u001b[0m \u001b[0;34m=\u001b[0m \u001b[0mtransform\u001b[0m\u001b[0;34m(\u001b[0m\u001b[0msubject\u001b[0m\u001b[0;34m)\u001b[0m  \u001b[0;31m# type: ignore[assignment]\u001b[0m\u001b[0;34m\u001b[0m\u001b[0;34m\u001b[0m\u001b[0m\n\u001b[0m\u001b[1;32m     52\u001b[0m         \u001b[0;32mreturn\u001b[0m \u001b[0msubject\u001b[0m\u001b[0;34m\u001b[0m\u001b[0;34m\u001b[0m\u001b[0m\n\u001b[1;32m     53\u001b[0m \u001b[0;34m\u001b[0m\u001b[0m\n",
      "\u001b[0;32m~/anaconda3/lib/python3.9/site-packages/torchio/transforms/transform.py\u001b[0m in \u001b[0;36m__call__\u001b[0;34m(self, data)\u001b[0m\n\u001b[1;32m    156\u001b[0m             \u001b[0msubject\u001b[0m \u001b[0;34m=\u001b[0m \u001b[0mcopy\u001b[0m\u001b[0;34m.\u001b[0m\u001b[0mcopy\u001b[0m\u001b[0;34m(\u001b[0m\u001b[0msubject\u001b[0m\u001b[0;34m)\u001b[0m\u001b[0;34m\u001b[0m\u001b[0;34m\u001b[0m\u001b[0m\n\u001b[1;32m    157\u001b[0m         \u001b[0;32mwith\u001b[0m \u001b[0mnp\u001b[0m\u001b[0;34m.\u001b[0m\u001b[0merrstate\u001b[0m\u001b[0;34m(\u001b[0m\u001b[0mall\u001b[0m\u001b[0;34m=\u001b[0m\u001b[0;34m'raise'\u001b[0m\u001b[0;34m,\u001b[0m \u001b[0munder\u001b[0m\u001b[0;34m=\u001b[0m\u001b[0;34m'ignore'\u001b[0m\u001b[0;34m)\u001b[0m\u001b[0;34m:\u001b[0m\u001b[0;34m\u001b[0m\u001b[0;34m\u001b[0m\u001b[0m\n\u001b[0;32m--> 158\u001b[0;31m             \u001b[0mtransformed\u001b[0m \u001b[0;34m=\u001b[0m \u001b[0mself\u001b[0m\u001b[0;34m.\u001b[0m\u001b[0mapply_transform\u001b[0m\u001b[0;34m(\u001b[0m\u001b[0msubject\u001b[0m\u001b[0;34m)\u001b[0m\u001b[0;34m\u001b[0m\u001b[0;34m\u001b[0m\u001b[0m\n\u001b[0m\u001b[1;32m    159\u001b[0m         \u001b[0;32mif\u001b[0m \u001b[0mself\u001b[0m\u001b[0;34m.\u001b[0m\u001b[0mkeep\u001b[0m \u001b[0;32mis\u001b[0m \u001b[0;32mnot\u001b[0m \u001b[0;32mNone\u001b[0m\u001b[0;34m:\u001b[0m\u001b[0;34m\u001b[0m\u001b[0;34m\u001b[0m\u001b[0m\n\u001b[1;32m    160\u001b[0m             \u001b[0;32mfor\u001b[0m \u001b[0mname\u001b[0m\u001b[0;34m,\u001b[0m \u001b[0mimage\u001b[0m \u001b[0;32min\u001b[0m \u001b[0mimages_to_keep\u001b[0m\u001b[0;34m.\u001b[0m\u001b[0mitems\u001b[0m\u001b[0;34m(\u001b[0m\u001b[0;34m)\u001b[0m\u001b[0;34m:\u001b[0m\u001b[0;34m\u001b[0m\u001b[0;34m\u001b[0m\u001b[0m\n",
      "\u001b[0;32m~/anaconda3/lib/python3.9/site-packages/torchio/transforms/augmentation/composition.py\u001b[0m in \u001b[0;36mapply_transform\u001b[0;34m(self, subject)\u001b[0m\n\u001b[1;32m     49\u001b[0m     \u001b[0;32mdef\u001b[0m \u001b[0mapply_transform\u001b[0m\u001b[0;34m(\u001b[0m\u001b[0mself\u001b[0m\u001b[0;34m,\u001b[0m \u001b[0msubject\u001b[0m\u001b[0;34m:\u001b[0m \u001b[0mSubject\u001b[0m\u001b[0;34m)\u001b[0m \u001b[0;34m->\u001b[0m \u001b[0mSubject\u001b[0m\u001b[0;34m:\u001b[0m\u001b[0;34m\u001b[0m\u001b[0;34m\u001b[0m\u001b[0m\n\u001b[1;32m     50\u001b[0m         \u001b[0;32mfor\u001b[0m \u001b[0mtransform\u001b[0m \u001b[0;32min\u001b[0m \u001b[0mself\u001b[0m\u001b[0;34m.\u001b[0m\u001b[0mtransforms\u001b[0m\u001b[0;34m:\u001b[0m\u001b[0;34m\u001b[0m\u001b[0;34m\u001b[0m\u001b[0m\n\u001b[0;32m---> 51\u001b[0;31m             \u001b[0msubject\u001b[0m \u001b[0;34m=\u001b[0m \u001b[0mtransform\u001b[0m\u001b[0;34m(\u001b[0m\u001b[0msubject\u001b[0m\u001b[0;34m)\u001b[0m  \u001b[0;31m# type: ignore[assignment]\u001b[0m\u001b[0;34m\u001b[0m\u001b[0;34m\u001b[0m\u001b[0m\n\u001b[0m\u001b[1;32m     52\u001b[0m         \u001b[0;32mreturn\u001b[0m \u001b[0msubject\u001b[0m\u001b[0;34m\u001b[0m\u001b[0;34m\u001b[0m\u001b[0m\n\u001b[1;32m     53\u001b[0m \u001b[0;34m\u001b[0m\u001b[0m\n",
      "\u001b[0;32m~/anaconda3/lib/python3.9/site-packages/torchio/transforms/transform.py\u001b[0m in \u001b[0;36m__call__\u001b[0;34m(self, data)\u001b[0m\n\u001b[1;32m    156\u001b[0m             \u001b[0msubject\u001b[0m \u001b[0;34m=\u001b[0m \u001b[0mcopy\u001b[0m\u001b[0;34m.\u001b[0m\u001b[0mcopy\u001b[0m\u001b[0;34m(\u001b[0m\u001b[0msubject\u001b[0m\u001b[0;34m)\u001b[0m\u001b[0;34m\u001b[0m\u001b[0;34m\u001b[0m\u001b[0m\n\u001b[1;32m    157\u001b[0m         \u001b[0;32mwith\u001b[0m \u001b[0mnp\u001b[0m\u001b[0;34m.\u001b[0m\u001b[0merrstate\u001b[0m\u001b[0;34m(\u001b[0m\u001b[0mall\u001b[0m\u001b[0;34m=\u001b[0m\u001b[0;34m'raise'\u001b[0m\u001b[0;34m,\u001b[0m \u001b[0munder\u001b[0m\u001b[0;34m=\u001b[0m\u001b[0;34m'ignore'\u001b[0m\u001b[0;34m)\u001b[0m\u001b[0;34m:\u001b[0m\u001b[0;34m\u001b[0m\u001b[0;34m\u001b[0m\u001b[0m\n\u001b[0;32m--> 158\u001b[0;31m             \u001b[0mtransformed\u001b[0m \u001b[0;34m=\u001b[0m \u001b[0mself\u001b[0m\u001b[0;34m.\u001b[0m\u001b[0mapply_transform\u001b[0m\u001b[0;34m(\u001b[0m\u001b[0msubject\u001b[0m\u001b[0;34m)\u001b[0m\u001b[0;34m\u001b[0m\u001b[0;34m\u001b[0m\u001b[0m\n\u001b[0m\u001b[1;32m    159\u001b[0m         \u001b[0;32mif\u001b[0m \u001b[0mself\u001b[0m\u001b[0;34m.\u001b[0m\u001b[0mkeep\u001b[0m \u001b[0;32mis\u001b[0m \u001b[0;32mnot\u001b[0m \u001b[0;32mNone\u001b[0m\u001b[0;34m:\u001b[0m\u001b[0;34m\u001b[0m\u001b[0;34m\u001b[0m\u001b[0m\n\u001b[1;32m    160\u001b[0m             \u001b[0;32mfor\u001b[0m \u001b[0mname\u001b[0m\u001b[0;34m,\u001b[0m \u001b[0mimage\u001b[0m \u001b[0;32min\u001b[0m \u001b[0mimages_to_keep\u001b[0m\u001b[0;34m.\u001b[0m\u001b[0mitems\u001b[0m\u001b[0;34m(\u001b[0m\u001b[0;34m)\u001b[0m\u001b[0;34m:\u001b[0m\u001b[0;34m\u001b[0m\u001b[0;34m\u001b[0m\u001b[0m\n",
      "\u001b[0;32m~/anaconda3/lib/python3.9/site-packages/torchio/transforms/augmentation/intensity/random_bias_field.py\u001b[0m in \u001b[0;36mapply_transform\u001b[0;34m(self, subject)\u001b[0m\n\u001b[1;32m     59\u001b[0m             \u001b[0marguments\u001b[0m\u001b[0;34m[\u001b[0m\u001b[0;34m'order'\u001b[0m\u001b[0;34m]\u001b[0m\u001b[0;34m[\u001b[0m\u001b[0mimage_name\u001b[0m\u001b[0;34m]\u001b[0m \u001b[0;34m=\u001b[0m \u001b[0mself\u001b[0m\u001b[0;34m.\u001b[0m\u001b[0morder\u001b[0m\u001b[0;34m\u001b[0m\u001b[0;34m\u001b[0m\u001b[0m\n\u001b[1;32m     60\u001b[0m         \u001b[0mtransform\u001b[0m \u001b[0;34m=\u001b[0m \u001b[0mBiasField\u001b[0m\u001b[0;34m(\u001b[0m\u001b[0;34m**\u001b[0m\u001b[0mself\u001b[0m\u001b[0;34m.\u001b[0m\u001b[0madd_include_exclude\u001b[0m\u001b[0;34m(\u001b[0m\u001b[0marguments\u001b[0m\u001b[0;34m)\u001b[0m\u001b[0;34m)\u001b[0m\u001b[0;34m\u001b[0m\u001b[0;34m\u001b[0m\u001b[0m\n\u001b[0;32m---> 61\u001b[0;31m         \u001b[0mtransformed\u001b[0m \u001b[0;34m=\u001b[0m \u001b[0mtransform\u001b[0m\u001b[0;34m(\u001b[0m\u001b[0msubject\u001b[0m\u001b[0;34m)\u001b[0m\u001b[0;34m\u001b[0m\u001b[0;34m\u001b[0m\u001b[0m\n\u001b[0m\u001b[1;32m     62\u001b[0m         \u001b[0;32massert\u001b[0m \u001b[0misinstance\u001b[0m\u001b[0;34m(\u001b[0m\u001b[0mtransformed\u001b[0m\u001b[0;34m,\u001b[0m \u001b[0mSubject\u001b[0m\u001b[0;34m)\u001b[0m\u001b[0;34m\u001b[0m\u001b[0;34m\u001b[0m\u001b[0m\n\u001b[1;32m     63\u001b[0m         \u001b[0;32mreturn\u001b[0m \u001b[0mtransformed\u001b[0m\u001b[0;34m\u001b[0m\u001b[0;34m\u001b[0m\u001b[0m\n",
      "\u001b[0;32m~/anaconda3/lib/python3.9/site-packages/torchio/transforms/transform.py\u001b[0m in \u001b[0;36m__call__\u001b[0;34m(self, data)\u001b[0m\n\u001b[1;32m    156\u001b[0m             \u001b[0msubject\u001b[0m \u001b[0;34m=\u001b[0m \u001b[0mcopy\u001b[0m\u001b[0;34m.\u001b[0m\u001b[0mcopy\u001b[0m\u001b[0;34m(\u001b[0m\u001b[0msubject\u001b[0m\u001b[0;34m)\u001b[0m\u001b[0;34m\u001b[0m\u001b[0;34m\u001b[0m\u001b[0m\n\u001b[1;32m    157\u001b[0m         \u001b[0;32mwith\u001b[0m \u001b[0mnp\u001b[0m\u001b[0;34m.\u001b[0m\u001b[0merrstate\u001b[0m\u001b[0;34m(\u001b[0m\u001b[0mall\u001b[0m\u001b[0;34m=\u001b[0m\u001b[0;34m'raise'\u001b[0m\u001b[0;34m,\u001b[0m \u001b[0munder\u001b[0m\u001b[0;34m=\u001b[0m\u001b[0;34m'ignore'\u001b[0m\u001b[0;34m)\u001b[0m\u001b[0;34m:\u001b[0m\u001b[0;34m\u001b[0m\u001b[0;34m\u001b[0m\u001b[0m\n\u001b[0;32m--> 158\u001b[0;31m             \u001b[0mtransformed\u001b[0m \u001b[0;34m=\u001b[0m \u001b[0mself\u001b[0m\u001b[0;34m.\u001b[0m\u001b[0mapply_transform\u001b[0m\u001b[0;34m(\u001b[0m\u001b[0msubject\u001b[0m\u001b[0;34m)\u001b[0m\u001b[0;34m\u001b[0m\u001b[0;34m\u001b[0m\u001b[0m\n\u001b[0m\u001b[1;32m    159\u001b[0m         \u001b[0;32mif\u001b[0m \u001b[0mself\u001b[0m\u001b[0;34m.\u001b[0m\u001b[0mkeep\u001b[0m \u001b[0;32mis\u001b[0m \u001b[0;32mnot\u001b[0m \u001b[0;32mNone\u001b[0m\u001b[0;34m:\u001b[0m\u001b[0;34m\u001b[0m\u001b[0;34m\u001b[0m\u001b[0m\n\u001b[1;32m    160\u001b[0m             \u001b[0;32mfor\u001b[0m \u001b[0mname\u001b[0m\u001b[0;34m,\u001b[0m \u001b[0mimage\u001b[0m \u001b[0;32min\u001b[0m \u001b[0mimages_to_keep\u001b[0m\u001b[0;34m.\u001b[0m\u001b[0mitems\u001b[0m\u001b[0;34m(\u001b[0m\u001b[0;34m)\u001b[0m\u001b[0;34m:\u001b[0m\u001b[0;34m\u001b[0m\u001b[0;34m\u001b[0m\u001b[0m\n",
      "\u001b[0;32m~/anaconda3/lib/python3.9/site-packages/torchio/transforms/augmentation/intensity/random_bias_field.py\u001b[0m in \u001b[0;36mapply_transform\u001b[0;34m(self, subject)\u001b[0m\n\u001b[1;32m    116\u001b[0m                 \u001b[0mcoefficients\u001b[0m\u001b[0;34m,\u001b[0m \u001b[0morder\u001b[0m \u001b[0;34m=\u001b[0m \u001b[0mself\u001b[0m\u001b[0;34m.\u001b[0m\u001b[0mcoefficients\u001b[0m\u001b[0;34m[\u001b[0m\u001b[0mname\u001b[0m\u001b[0;34m]\u001b[0m\u001b[0;34m,\u001b[0m \u001b[0mself\u001b[0m\u001b[0;34m.\u001b[0m\u001b[0morder\u001b[0m\u001b[0;34m[\u001b[0m\u001b[0mname\u001b[0m\u001b[0;34m]\u001b[0m\u001b[0;34m\u001b[0m\u001b[0;34m\u001b[0m\u001b[0m\n\u001b[1;32m    117\u001b[0m             \u001b[0;32massert\u001b[0m \u001b[0misinstance\u001b[0m\u001b[0;34m(\u001b[0m\u001b[0morder\u001b[0m\u001b[0;34m,\u001b[0m \u001b[0mint\u001b[0m\u001b[0;34m)\u001b[0m\u001b[0;34m\u001b[0m\u001b[0;34m\u001b[0m\u001b[0m\n\u001b[0;32m--> 118\u001b[0;31m             bias_field = self.generate_bias_field(\n\u001b[0m\u001b[1;32m    119\u001b[0m                 \u001b[0mimage\u001b[0m\u001b[0;34m.\u001b[0m\u001b[0mdata\u001b[0m\u001b[0;34m,\u001b[0m \u001b[0morder\u001b[0m\u001b[0;34m,\u001b[0m \u001b[0mcoefficients\u001b[0m\u001b[0;34m,\u001b[0m  \u001b[0;31m# type: ignore[arg-type]\u001b[0m\u001b[0;34m\u001b[0m\u001b[0;34m\u001b[0m\u001b[0m\n\u001b[1;32m    120\u001b[0m             )\n",
      "\u001b[0;32m~/anaconda3/lib/python3.9/site-packages/torchio/transforms/augmentation/intensity/random_bias_field.py\u001b[0m in \u001b[0;36mgenerate_bias_field\u001b[0;34m(data, order, coefficients)\u001b[0m\n\u001b[1;32m    155\u001b[0m                         \u001b[0;34m*\u001b[0m \u001b[0mx_mesh\u001b[0m \u001b[0;34m**\u001b[0m \u001b[0mx_order\u001b[0m\u001b[0;34m\u001b[0m\u001b[0;34m\u001b[0m\u001b[0m\n\u001b[1;32m    156\u001b[0m                         \u001b[0;34m*\u001b[0m \u001b[0my_mesh\u001b[0m \u001b[0;34m**\u001b[0m \u001b[0my_order\u001b[0m\u001b[0;34m\u001b[0m\u001b[0;34m\u001b[0m\u001b[0m\n\u001b[0;32m--> 157\u001b[0;31m                         \u001b[0;34m*\u001b[0m \u001b[0mz_mesh\u001b[0m \u001b[0;34m**\u001b[0m \u001b[0mz_order\u001b[0m\u001b[0;34m\u001b[0m\u001b[0;34m\u001b[0m\u001b[0m\n\u001b[0m\u001b[1;32m    158\u001b[0m                     )\n\u001b[1;32m    159\u001b[0m                     \u001b[0mbias_field\u001b[0m \u001b[0;34m+=\u001b[0m \u001b[0mnp\u001b[0m\u001b[0;34m.\u001b[0m\u001b[0mtranspose\u001b[0m\u001b[0;34m(\u001b[0m\u001b[0mnew_map\u001b[0m\u001b[0;34m,\u001b[0m \u001b[0;34m(\u001b[0m\u001b[0;36m1\u001b[0m\u001b[0;34m,\u001b[0m \u001b[0;36m0\u001b[0m\u001b[0;34m,\u001b[0m \u001b[0;36m2\u001b[0m\u001b[0;34m)\u001b[0m\u001b[0;34m)\u001b[0m  \u001b[0;31m# why?\u001b[0m\u001b[0;34m\u001b[0m\u001b[0;34m\u001b[0m\u001b[0m\n",
      "\u001b[0;31mKeyboardInterrupt\u001b[0m: "
     ]
    }
   ],
   "source": [
    "# Calculate the number of traininable params\n",
    "print('Trainable params: ', count_parameters(net))\n",
    "\n",
    "DiceCELoss = monai.losses.DiceCELoss() # : cross entropy + dice loss\n",
    "Dice_Loss = monai.losses.DiceLoss(reduction='mean') #: dice loss\n",
    "CrossE_loss = nn.CrossEntropyLoss() # cross entropy\n",
    "BCE_loss = nn.BCELoss() # binary cross entropy\n",
    "\n",
    "for i in ['DiceCELoss', 'Dice_Loss', 'CrossE_loss', 'BCE_loss']:\n",
    "    print(\"Loss Function is\", i)\n",
    "    if i == 'DiceCELoss':\n",
    "        class_loss = monai.losses.DiceCELoss()\n",
    "    elif i == 'Dice_Loss':\n",
    "        class_loss = monai.losses.DiceLoss(reduction='mean')\n",
    "    elif i == 'CrossE_loss':\n",
    "        class_loss = nn.CrossEntropyLoss()\n",
    "    elif i == 'BCE_loss':\n",
    "        class_loss = nn.BCELoss()\n",
    "        \n",
    "    optim = torch.optim.Adam(net.parameters(), lr = hp.init_lr)\n",
    "\n",
    "    losses = []\n",
    "    max_epochs = hp.total_epochs\n",
    "    check_point = np.inf\n",
    "    early_stop = 0\n",
    "    for epoch in range(1, max_epochs+1):\n",
    "        train_loss = train(net, train_dataloader, optim, class_loss, epoch)\n",
    "        val_loss = val(net, val_dataloader, optim, class_loss, epoch)\n",
    "        if val_loss < check_point:\n",
    "            check_point = val_loss\n",
    "            early_stop = 0\n",
    "        else:\n",
    "            early_stop += 1\n",
    "        if early_stop >= 10:\n",
    "            break\n",
    "        losses.append([train_loss, val_loss])\n",
    "\n",
    "    losses = np.array(losses).T\n",
    "    print(losses.shape)\n",
    "    its = np.linspace(1, max_epochs, max_epochs)\n",
    "\n",
    "    plt.figure()\n",
    "    plt.plot(its, losses[0,:])\n",
    "    plt.plot(its, losses[1,:])\n",
    "    plt.xlabel('Epoch')\n",
    "    plt.ylabel('Loss')\n",
    "    plt.legend(['Train', 'Validation'])"
   ]
  },
  {
   "attachments": {},
   "cell_type": "markdown",
   "metadata": {},
   "source": [
    "## Predict"
   ]
  },
  {
   "cell_type": "code",
   "execution_count": null,
   "metadata": {},
   "outputs": [],
   "source": [
    "def predict(net, test_dataloader):\n",
    "    pred_store = []\n",
    "    true_store = []\n",
    "         \n",
    "    with torch.no_grad():  # So no gradients accumulate\n",
    "        for batch_idx, batch in enumerate(test_dataloader):\n",
    "            data = batch['image'][tio.DATA]\n",
    "            target = batch['label'][tio.DATA]\n",
    "            data, target = Variable(data).to(device), Variable(target).to(device)\n",
    "            # Complete validation loop here:\n",
    "            target = target.to(torch.float32)\n",
    "            pred = net(data) \n",
    "            #print(pred.shape)\n",
    "            #print(np.argmax(pred.cpu().detach().numpy(), axis=1).shape)\n",
    "            pred_store.extend(np.argmax(pred.cpu().detach().numpy(), axis=1))\n",
    "\n",
    "            true_store.extend(np.argmax(target.cpu().detach().numpy(), axis=1))\n",
    "    \n",
    "    pred_store = torch.tensor(pred_store)\n",
    "    pred_store = torch.reshape(pred_store.detach(), (pred_store.shape[0], 1, pred_store.shape[1], \\\n",
    "                                                            pred_store.shape[2], pred_store.shape[3]))\n",
    "    pred_store = np.array(pred_store)\n",
    "\n",
    "    true_store = torch.tensor(true_store)\n",
    "    true_store = torch.reshape(true_store.detach(), (true_store.shape[0], 1, true_store.shape[1], \\\n",
    "                                                            true_store.shape[2], true_store.shape[3]))\n",
    "    true_store = np.array(true_store)\n",
    "    \n",
    "\n",
    "    return pred_store, true_store"
   ]
  },
  {
   "cell_type": "code",
   "execution_count": null,
   "metadata": {},
   "outputs": [],
   "source": [
    "pred, true = predict(net, test_dataloader)"
   ]
  },
  {
   "cell_type": "code",
   "execution_count": null,
   "metadata": {},
   "outputs": [],
   "source": [
    "pred.shape, true.shape"
   ]
  },
  {
   "cell_type": "code",
   "execution_count": null,
   "metadata": {},
   "outputs": [],
   "source": [
    "def dice(ground_truth, prediction):\n",
    "    # Calculate the dice coefficient of the ground truth and the prediction\n",
    "    intersect = np.sum(prediction[ground_truth == 1])*2.0\n",
    "    dice_coeff =  intersect / (np.sum(prediction) + np.sum(ground_truth))\n",
    "    return dice_coeff"
   ]
  },
  {
   "cell_type": "code",
   "execution_count": null,
   "metadata": {},
   "outputs": [],
   "source": [
    "dice(true, pred)"
   ]
  },
  {
   "cell_type": "code",
   "execution_count": null,
   "metadata": {},
   "outputs": [],
   "source": [
    "dice_metric = monai.metrics.DiceMetric(include_background=True, reduction=\"mean_batch\")\n",
    "dice_score = dice_metric(y_pred = torch.from_numpy(pred), y = torch.from_numpy(true))\n",
    "torch.mean(dice_score).item()"
   ]
  },
  {
   "cell_type": "code",
   "execution_count": null,
   "metadata": {},
   "outputs": [],
   "source": [
    "IoU_metric = monai.metrics.MeanIoU(include_background=True, reduction=\"mean_batch\")\n",
    "IoU_socre = IoU_metric(y_pred = torch.from_numpy(pred), y = torch.from_numpy(true))\n",
    "torch.mean(IoU_socre).item()"
   ]
  },
  {
   "attachments": {},
   "cell_type": "markdown",
   "metadata": {},
   "source": [
    "## 尝试不同的loss function组合"
   ]
  },
  {
   "attachments": {},
   "cell_type": "markdown",
   "metadata": {},
   "source": [
    "## 尝试不同的深度"
   ]
  },
  {
   "attachments": {},
   "cell_type": "markdown",
   "metadata": {},
   "source": [
    "## 尝试不同的augmentation"
   ]
  },
  {
   "attachments": {},
   "cell_type": "markdown",
   "metadata": {},
   "source": [
    "## 尝试不同的超参数：batch size，crop_or_pad_size"
   ]
  }
 ],
 "metadata": {
  "kernelspec": {
   "display_name": "base",
   "language": "python",
   "name": "python3"
  },
  "language_info": {
   "codemirror_mode": {
    "name": "ipython",
    "version": 3
   },
   "file_extension": ".py",
   "mimetype": "text/x-python",
   "name": "python",
   "nbconvert_exporter": "python",
   "pygments_lexer": "ipython3",
   "version": "3.9.12"
  },
  "orig_nbformat": 4,
  "vscode": {
   "interpreter": {
    "hash": "0c4e795b307436e90878d87b7b6ea0f9ae1f8d88c9c1ffc8ae37ae0851c943d6"
   }
  }
 },
 "nbformat": 4,
 "nbformat_minor": 2
}
